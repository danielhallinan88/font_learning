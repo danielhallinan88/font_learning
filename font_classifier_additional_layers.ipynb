{
 "cells": [
  {
   "cell_type": "code",
   "execution_count": 13,
   "metadata": {},
   "outputs": [],
   "source": [
    "from keras.layers import Conv2D, MaxPooling2D, GlobalAveragePooling2D\n",
    "from keras.layers import Dropout, Flatten, Dense, Activation, Reshape, Input\n",
    "from keras.layers.normalization import BatchNormalization\n",
    "from keras.models import Sequential, load_model\n",
    "from keras.callbacks import ModelCheckpoint\n",
    "from keras.utils import to_categorical\n",
    "from keras import backend as K\n",
    "\n",
    "% matplotlib inline\n",
    "\n",
    "from sklearn.model_selection import train_test_split\n",
    "import matplotlib.pyplot as plt\n",
    "import pandas as pd\n",
    "import numpy as np\n",
    "import h5py"
   ]
  },
  {
   "cell_type": "code",
   "execution_count": 6,
   "metadata": {},
   "outputs": [],
   "source": [
    "data = h5py.File('fonts.hdf5')\n",
    "fonts = data['fonts']"
   ]
  },
  {
   "cell_type": "code",
   "execution_count": 7,
   "metadata": {},
   "outputs": [
    {
     "name": "stdout",
     "output_type": "stream",
     "text": [
      "(3499466, 64, 64, 1)\n",
      "CPU times: user 6.76 s, sys: 14.9 s, total: 21.7 s\n",
      "Wall time: 21.6 s\n"
     ]
    }
   ],
   "source": [
    "%%time\n",
    "\n",
    "image_list = np.array(fonts).reshape(56443*62, 64, 64, 1)\n",
    "print(image_list.shape)"
   ]
  },
  {
   "cell_type": "code",
   "execution_count": 8,
   "metadata": {},
   "outputs": [],
   "source": [
    "all_chars = \"ABCDEFGHIJKLMNOPQRSTUVWXYZabcdefghijklmnopqrstuvwxyz0123456789\"\n",
    "chars = { i: char for i, char in enumerate(all_chars) }"
   ]
  },
  {
   "cell_type": "code",
   "execution_count": 9,
   "metadata": {},
   "outputs": [
    {
     "name": "stdout",
     "output_type": "stream",
     "text": [
      "(3499466, 64, 64, 1)\n",
      "(3499466,)\n"
     ]
    }
   ],
   "source": [
    "X = image_list\n",
    "y = np.array([i for _ in range(56443) for i in range(62)])\n",
    "\n",
    "print(X.shape)\n",
    "print(y.shape)"
   ]
  },
  {
   "cell_type": "code",
   "execution_count": 12,
   "metadata": {},
   "outputs": [
    {
     "name": "stdout",
     "output_type": "stream",
     "text": [
      "(100000, 64, 64, 1)\n",
      "(100000,)\n",
      "uint8\n",
      "int64\n"
     ]
    }
   ],
   "source": [
    "X_subset = X[200000:300000]\n",
    "y_subset = y[200000:300000]\n",
    "\n",
    "print(X_subset.shape)\n",
    "print(y_subset.shape)\n",
    "\n",
    "print(X_subset.dtype)\n",
    "print(y_subset.dtype)"
   ]
  },
  {
   "cell_type": "code",
   "execution_count": 14,
   "metadata": {},
   "outputs": [
    {
     "name": "stdout",
     "output_type": "stream",
     "text": [
      "(100000, 64, 64, 1)\n",
      "(100000, 62)\n",
      "float64\n",
      "float64\n",
      "CPU times: user 2.57 s, sys: 1.2 s, total: 3.76 s\n",
      "Wall time: 3.76 s\n"
     ]
    }
   ],
   "source": [
    "%%time\n",
    "\n",
    "X_subset = X_subset / 255\n",
    "y_subset = to_categorical(y_subset)\n",
    "\n",
    "print(X_subset.shape)\n",
    "print(y_subset.shape)\n",
    "\n",
    "print(X_subset.dtype)\n",
    "print(y_subset.dtype)"
   ]
  },
  {
   "cell_type": "code",
   "execution_count": 15,
   "metadata": {},
   "outputs": [
    {
     "name": "stdout",
     "output_type": "stream",
     "text": [
      "(75000, 64, 64, 1)\n",
      "(25000, 64, 64, 1)\n",
      "(75000, 62)\n",
      "(25000, 62)\n"
     ]
    }
   ],
   "source": [
    "X_subset_train, X_subset_test, y_subset_train, y_subset_test = train_test_split(X_subset, \n",
    "                                                                                y_subset, \n",
    "                                                                                test_size = .25, \n",
    "                                                                                random_state = 42\n",
    "                                                                               )\n",
    "print(X_subset_train.shape)\n",
    "print(X_subset_test.shape)\n",
    "print(y_subset_train.shape)\n",
    "print(y_subset_test.shape)"
   ]
  },
  {
   "cell_type": "code",
   "execution_count": 16,
   "metadata": {},
   "outputs": [],
   "source": [
    "src_model = 'font_model_second100000samples_8epochs.h5'"
   ]
  },
  {
   "cell_type": "code",
   "execution_count": 17,
   "metadata": {},
   "outputs": [],
   "source": [
    "model = load_model(src_model)"
   ]
  },
  {
   "cell_type": "code",
   "execution_count": 18,
   "metadata": {},
   "outputs": [
    {
     "data": {
      "text/plain": [
       "[<keras.layers.convolutional.Conv2D at 0x7f96e18e29e8>,\n",
       " <keras.layers.pooling.MaxPooling2D at 0x7f96e18e2e80>,\n",
       " <keras.layers.normalization.BatchNormalization at 0x7f96e18eb588>,\n",
       " <keras.layers.convolutional.Conv2D at 0x7f955ae79cc0>,\n",
       " <keras.layers.pooling.MaxPooling2D at 0x7f955ae87ac8>,\n",
       " <keras.layers.normalization.BatchNormalization at 0x7f955ae0fba8>,\n",
       " <keras.layers.convolutional.Conv2D at 0x7f955ae1ecc0>,\n",
       " <keras.layers.pooling.MaxPooling2D at 0x7f96e190cc88>,\n",
       " <keras.layers.normalization.BatchNormalization at 0x7f955ad99ba8>,\n",
       " <keras.layers.pooling.GlobalAveragePooling2D at 0x7f955ada7cc0>,\n",
       " <keras.layers.core.Dense at 0x7f955ada7dd8>,\n",
       " <keras.layers.core.Dense at 0x7f955ad0cba8>]"
      ]
     },
     "execution_count": 18,
     "metadata": {},
     "output_type": "execute_result"
    }
   ],
   "source": [
    "model.layers"
   ]
  },
  {
   "cell_type": "code",
   "execution_count": null,
   "metadata": {},
   "outputs": [],
   "source": []
  }
 ],
 "metadata": {
  "kernelspec": {
   "display_name": "Python 3",
   "language": "python",
   "name": "python3"
  },
  "language_info": {
   "codemirror_mode": {
    "name": "ipython",
    "version": 3
   },
   "file_extension": ".py",
   "mimetype": "text/x-python",
   "name": "python",
   "nbconvert_exporter": "python",
   "pygments_lexer": "ipython3",
   "version": "3.5.2"
  }
 },
 "nbformat": 4,
 "nbformat_minor": 2
}
