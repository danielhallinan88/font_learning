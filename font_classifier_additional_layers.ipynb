{
 "cells": [
  {
   "cell_type": "code",
   "execution_count": 1,
   "metadata": {},
   "outputs": [
    {
     "name": "stderr",
     "output_type": "stream",
     "text": [
      "Using TensorFlow backend.\n"
     ]
    }
   ],
   "source": [
    "from keras.layers import Conv2D, MaxPooling2D, GlobalAveragePooling2D\n",
    "from keras.layers import Dropout, Flatten, Dense, Activation, Reshape, Input\n",
    "from keras.layers.normalization import BatchNormalization\n",
    "from keras.models import Sequential, load_model\n",
    "from keras.callbacks import ModelCheckpoint\n",
    "from keras.utils import to_categorical\n",
    "from keras import backend as K\n",
    "\n",
    "% matplotlib inline\n",
    "\n",
    "from sklearn.model_selection import train_test_split\n",
    "import matplotlib.pyplot as plt\n",
    "import pandas as pd\n",
    "import numpy as np\n",
    "import h5py"
   ]
  },
  {
   "cell_type": "code",
   "execution_count": 2,
   "metadata": {},
   "outputs": [],
   "source": [
    "data = h5py.File('fonts.hdf5')\n",
    "fonts = data['fonts']"
   ]
  },
  {
   "cell_type": "code",
   "execution_count": 3,
   "metadata": {},
   "outputs": [
    {
     "name": "stdout",
     "output_type": "stream",
     "text": [
      "(3499466, 64, 64, 1)\n",
      "CPU times: user 9.36 s, sys: 17.9 s, total: 27.2 s\n",
      "Wall time: 2min 42s\n"
     ]
    }
   ],
   "source": [
    "%%time\n",
    "\n",
    "image_list = np.array(fonts).reshape(56443*62, 64, 64, 1)\n",
    "print(image_list.shape)"
   ]
  },
  {
   "cell_type": "code",
   "execution_count": 4,
   "metadata": {},
   "outputs": [],
   "source": [
    "all_chars = \"ABCDEFGHIJKLMNOPQRSTUVWXYZabcdefghijklmnopqrstuvwxyz0123456789\"\n",
    "chars = { i: char for i, char in enumerate(all_chars) }"
   ]
  },
  {
   "cell_type": "code",
   "execution_count": 14,
   "metadata": {},
   "outputs": [
    {
     "name": "stdout",
     "output_type": "stream",
     "text": [
      "(3499466, 64, 64, 1)\n",
      "(3499466,)\n"
     ]
    }
   ],
   "source": [
    "X = image_list\n",
    "y = np.array([i for _ in range(56443) for i in range(62)])\n",
    "\n",
    "print(X.shape)\n",
    "print(y.shape)"
   ]
  },
  {
   "cell_type": "code",
   "execution_count": 18,
   "metadata": {},
   "outputs": [
    {
     "name": "stdout",
     "output_type": "stream",
     "text": [
      "X shape: (100000, 64, 64, 1)\n",
      "y shape: (100000,)\n",
      "X dtype: uint8\n",
      "y dtype: int64\n"
     ]
    }
   ],
   "source": [
    "# Be careful which server you're on when running this one. It will generate about 6.2G of data.\n",
    "\n",
    "def create_dataset(X, y, start, interval=100000, save=False):\n",
    "    X_subset = X[start:start+interval]\n",
    "    y_subset = y[start:start+interval]\n",
    "    \n",
    "    if save:\n",
    "        np.savez_compressed(\"np_arrays/subset_{}-{}.npz\".format(str(start), str(start+interval)), X=X_subset, y=y_subset)\n",
    "    \n",
    "    print(\"X shape: {}\".format(X_subset.shape))\n",
    "    print(\"y shape: {}\".format(y_subset.shape))\n",
    "    print(\"X dtype: {}\".format(X_subset.dtype))\n",
    "    print(\"y dtype: {}\".format(y_subset.dtype))\n",
    "    \n",
    "    return X_subset, y_subset\n",
    "\n",
    "#X_subset, y_subset = create_dataset(X, y, 300000, save=True)\n",
    "#X_subset, y_subset = create_dataset(X, y, 400000, save=True)"
   ]
  },
  {
   "cell_type": "code",
   "execution_count": 16,
   "metadata": {},
   "outputs": [
    {
     "name": "stdout",
     "output_type": "stream",
     "text": [
      "(100000, 64, 64, 1)\n",
      "(100000, 62)\n",
      "float64\n",
      "float64\n",
      "CPU times: user 2.77 s, sys: 1.03 s, total: 3.8 s\n",
      "Wall time: 3.8 s\n"
     ]
    }
   ],
   "source": [
    "%%time\n",
    "\n",
    "X_subset = X_subset / 255\n",
    "y_subset = to_categorical(y_subset)\n",
    "\n",
    "print(X_subset.shape)\n",
    "print(y_subset.shape)\n",
    "\n",
    "print(X_subset.dtype)\n",
    "print(y_subset.dtype)"
   ]
  },
  {
   "cell_type": "code",
   "execution_count": 8,
   "metadata": {},
   "outputs": [
    {
     "name": "stdout",
     "output_type": "stream",
     "text": [
      "(75000, 64, 64, 1)\n",
      "(25000, 64, 64, 1)\n",
      "(75000, 62)\n",
      "(25000, 62)\n"
     ]
    }
   ],
   "source": [
    "X_subset_train, X_subset_test, y_subset_train, y_subset_test = train_test_split(X_subset, \n",
    "                                                                                y_subset, \n",
    "                                                                                test_size = .25, \n",
    "                                                                                random_state = 42\n",
    "                                                                               )\n",
    "print(X_subset_train.shape)\n",
    "print(X_subset_test.shape)\n",
    "print(y_subset_train.shape)\n",
    "print(y_subset_test.shape)"
   ]
  },
  {
   "cell_type": "code",
   "execution_count": 9,
   "metadata": {},
   "outputs": [],
   "source": [
    "src_model = 'font_model_second100000samples_8epochs.h5'"
   ]
  },
  {
   "cell_type": "code",
   "execution_count": 73,
   "metadata": {},
   "outputs": [],
   "source": [
    "model = load_model(src_model)"
   ]
  },
  {
   "cell_type": "code",
   "execution_count": 74,
   "metadata": {},
   "outputs": [
    {
     "name": "stdout",
     "output_type": "stream",
     "text": [
      "_________________________________________________________________\n",
      "Layer (type)                 Output Shape              Param #   \n",
      "=================================================================\n",
      "conv2d_1 (Conv2D)            (None, 64, 64, 256)       1280      \n",
      "_________________________________________________________________\n",
      "max_pooling2d_1 (MaxPooling2 (None, 32, 32, 256)       0         \n",
      "_________________________________________________________________\n",
      "batch_normalization_1 (Batch (None, 32, 32, 256)       1024      \n",
      "_________________________________________________________________\n",
      "conv2d_2 (Conv2D)            (None, 32, 32, 512)       524800    \n",
      "_________________________________________________________________\n",
      "max_pooling2d_2 (MaxPooling2 (None, 16, 16, 512)       0         \n",
      "_________________________________________________________________\n",
      "batch_normalization_2 (Batch (None, 16, 16, 512)       2048      \n",
      "_________________________________________________________________\n",
      "conv2d_3 (Conv2D)            (None, 16, 16, 1024)      2098176   \n",
      "_________________________________________________________________\n",
      "max_pooling2d_3 (MaxPooling2 (None, 8, 8, 1024)        0         \n",
      "_________________________________________________________________\n",
      "batch_normalization_3 (Batch (None, 8, 8, 1024)        4096      \n",
      "_________________________________________________________________\n",
      "global_average_pooling2d_1 ( (None, 1024)              0         \n",
      "_________________________________________________________________\n",
      "dense_1 (Dense)              (None, 512)               524800    \n",
      "_________________________________________________________________\n",
      "dense_2 (Dense)              (None, 62)                31806     \n",
      "=================================================================\n",
      "Total params: 3,188,030.0\n",
      "Trainable params: 3,184,446.0\n",
      "Non-trainable params: 3,584.0\n",
      "_________________________________________________________________\n"
     ]
    }
   ],
   "source": [
    "model.summary()"
   ]
  },
  {
   "cell_type": "code",
   "execution_count": 75,
   "metadata": {},
   "outputs": [
    {
     "name": "stdout",
     "output_type": "stream",
     "text": [
      "_________________________________________________________________\n",
      "Layer (type)                 Output Shape              Param #   \n",
      "=================================================================\n",
      "conv2d_1 (Conv2D)            (None, 64, 64, 256)       1280      \n",
      "_________________________________________________________________\n",
      "max_pooling2d_1 (MaxPooling2 (None, 32, 32, 256)       0         \n",
      "_________________________________________________________________\n",
      "batch_normalization_1 (Batch (None, 32, 32, 256)       1024      \n",
      "_________________________________________________________________\n",
      "conv2d_2 (Conv2D)            (None, 32, 32, 512)       524800    \n",
      "_________________________________________________________________\n",
      "max_pooling2d_2 (MaxPooling2 (None, 16, 16, 512)       0         \n",
      "_________________________________________________________________\n",
      "batch_normalization_2 (Batch (None, 16, 16, 512)       2048      \n",
      "_________________________________________________________________\n",
      "conv2d_3 (Conv2D)            (None, 16, 16, 1024)      2098176   \n",
      "_________________________________________________________________\n",
      "max_pooling2d_3 (MaxPooling2 (None, 8, 8, 1024)        0         \n",
      "_________________________________________________________________\n",
      "batch_normalization_3 (Batch (None, 8, 8, 1024)        4096      \n",
      "=================================================================\n",
      "Total params: 2,631,424.0\n",
      "Trainable params: 2,627,840.0\n",
      "Non-trainable params: 3,584.0\n",
      "_________________________________________________________________\n"
     ]
    }
   ],
   "source": [
    "model.layers.pop()\n",
    "model.layers.pop()\n",
    "model.layers.pop()\n",
    "model.summary()"
   ]
  },
  {
   "cell_type": "code",
   "execution_count": 76,
   "metadata": {},
   "outputs": [],
   "source": [
    "# Freeze original layers\n",
    "\n",
    "for layer in model.layers:\n",
    "    layer.trainable = False"
   ]
  },
  {
   "cell_type": "code",
   "execution_count": 77,
   "metadata": {},
   "outputs": [
    {
     "name": "stdout",
     "output_type": "stream",
     "text": [
      "_________________________________________________________________\n",
      "Layer (type)                 Output Shape              Param #   \n",
      "=================================================================\n",
      "conv2d_1 (Conv2D)            (None, 64, 64, 256)       1280      \n",
      "_________________________________________________________________\n",
      "max_pooling2d_1 (MaxPooling2 (None, 32, 32, 256)       0         \n",
      "_________________________________________________________________\n",
      "batch_normalization_1 (Batch (None, 32, 32, 256)       1024      \n",
      "_________________________________________________________________\n",
      "conv2d_2 (Conv2D)            (None, 32, 32, 512)       524800    \n",
      "_________________________________________________________________\n",
      "max_pooling2d_2 (MaxPooling2 (None, 16, 16, 512)       0         \n",
      "_________________________________________________________________\n",
      "batch_normalization_2 (Batch (None, 16, 16, 512)       2048      \n",
      "_________________________________________________________________\n",
      "conv2d_3 (Conv2D)            (None, 16, 16, 1024)      2098176   \n",
      "_________________________________________________________________\n",
      "max_pooling2d_3 (MaxPooling2 (None, 8, 8, 1024)        0         \n",
      "_________________________________________________________________\n",
      "batch_normalization_3 (Batch (None, 8, 8, 1024)        4096      \n",
      "_________________________________________________________________\n",
      "dense_6 (Dense)              (None, 512)               32256     \n",
      "=================================================================\n",
      "Total params: 2,663,680.0\n",
      "Trainable params: 32,256.0\n",
      "Non-trainable params: 2,631,424.0\n",
      "_________________________________________________________________\n"
     ]
    }
   ],
   "source": [
    "model.add(Dense(512, activation='relu'))\n",
    "\n",
    "#model.add(Conv2D(filters=512, kernel_size=2, padding='same', activation='relu'))\n",
    "#model.add(MaxPooling2D(pool_size=2))\n",
    "#model.add(BatchNormalization())\n",
    "#model.add(GlobalAveragePooling2D())\n",
    "#model.add(Dense(512, activation='relu'))\n",
    "#model.add(Dense(62, activation='softmax'))\n",
    "model.summary()"
   ]
  },
  {
   "cell_type": "code",
   "execution_count": null,
   "metadata": {},
   "outputs": [],
   "source": []
  }
 ],
 "metadata": {
  "kernelspec": {
   "display_name": "Python 3",
   "language": "python",
   "name": "python3"
  },
  "language_info": {
   "codemirror_mode": {
    "name": "ipython",
    "version": 3
   },
   "file_extension": ".py",
   "mimetype": "text/x-python",
   "name": "python",
   "nbconvert_exporter": "python",
   "pygments_lexer": "ipython3",
   "version": "3.5.2"
  }
 },
 "nbformat": 4,
 "nbformat_minor": 2
}
