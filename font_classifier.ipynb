{
 "cells": [
  {
   "cell_type": "code",
   "execution_count": 1,
   "metadata": {},
   "outputs": [],
   "source": [
    "% matplotlib inline\n",
    "\n",
    "import matplotlib.pyplot as plt\n",
    "import pandas as pd\n",
    "import numpy as np\n",
    "import h5py"
   ]
  },
  {
   "cell_type": "code",
   "execution_count": 2,
   "metadata": {},
   "outputs": [],
   "source": [
    "data = h5py.File('fonts.hdf5')"
   ]
  },
  {
   "cell_type": "code",
   "execution_count": 3,
   "metadata": {
    "scrolled": true
   },
   "outputs": [
    {
     "data": {
      "text/plain": [
       "['T',\n",
       " '__abs__',\n",
       " '__add__',\n",
       " '__and__',\n",
       " '__array__',\n",
       " '__array_finalize__',\n",
       " '__array_interface__',\n",
       " '__array_prepare__',\n",
       " '__array_priority__',\n",
       " '__array_struct__',\n",
       " '__array_wrap__',\n",
       " '__bool__',\n",
       " '__class__',\n",
       " '__complex__',\n",
       " '__contains__',\n",
       " '__copy__',\n",
       " '__deepcopy__',\n",
       " '__delattr__',\n",
       " '__delitem__',\n",
       " '__dir__',\n",
       " '__divmod__',\n",
       " '__doc__',\n",
       " '__eq__',\n",
       " '__float__',\n",
       " '__floordiv__',\n",
       " '__format__',\n",
       " '__ge__',\n",
       " '__getattribute__',\n",
       " '__getitem__',\n",
       " '__gt__',\n",
       " '__hash__',\n",
       " '__iadd__',\n",
       " '__iand__',\n",
       " '__ifloordiv__',\n",
       " '__ilshift__',\n",
       " '__imatmul__',\n",
       " '__imod__',\n",
       " '__imul__',\n",
       " '__index__',\n",
       " '__init__',\n",
       " '__int__',\n",
       " '__invert__',\n",
       " '__ior__',\n",
       " '__ipow__',\n",
       " '__irshift__',\n",
       " '__isub__',\n",
       " '__iter__',\n",
       " '__itruediv__',\n",
       " '__ixor__',\n",
       " '__le__',\n",
       " '__len__',\n",
       " '__lshift__',\n",
       " '__lt__',\n",
       " '__matmul__',\n",
       " '__mod__',\n",
       " '__mul__',\n",
       " '__ne__',\n",
       " '__neg__',\n",
       " '__new__',\n",
       " '__or__',\n",
       " '__pos__',\n",
       " '__pow__',\n",
       " '__radd__',\n",
       " '__rand__',\n",
       " '__rdivmod__',\n",
       " '__reduce__',\n",
       " '__reduce_ex__',\n",
       " '__repr__',\n",
       " '__rfloordiv__',\n",
       " '__rlshift__',\n",
       " '__rmatmul__',\n",
       " '__rmod__',\n",
       " '__rmul__',\n",
       " '__ror__',\n",
       " '__rpow__',\n",
       " '__rrshift__',\n",
       " '__rshift__',\n",
       " '__rsub__',\n",
       " '__rtruediv__',\n",
       " '__rxor__',\n",
       " '__setattr__',\n",
       " '__setitem__',\n",
       " '__setstate__',\n",
       " '__sizeof__',\n",
       " '__str__',\n",
       " '__sub__',\n",
       " '__subclasshook__',\n",
       " '__truediv__',\n",
       " '__xor__',\n",
       " 'all',\n",
       " 'any',\n",
       " 'argmax',\n",
       " 'argmin',\n",
       " 'argpartition',\n",
       " 'argsort',\n",
       " 'astype',\n",
       " 'base',\n",
       " 'byteswap',\n",
       " 'choose',\n",
       " 'clip',\n",
       " 'compress',\n",
       " 'conj',\n",
       " 'conjugate',\n",
       " 'copy',\n",
       " 'ctypes',\n",
       " 'cumprod',\n",
       " 'cumsum',\n",
       " 'data',\n",
       " 'diagonal',\n",
       " 'dot',\n",
       " 'dtype',\n",
       " 'dump',\n",
       " 'dumps',\n",
       " 'fill',\n",
       " 'flags',\n",
       " 'flat',\n",
       " 'flatten',\n",
       " 'getfield',\n",
       " 'imag',\n",
       " 'item',\n",
       " 'itemset',\n",
       " 'itemsize',\n",
       " 'max',\n",
       " 'mean',\n",
       " 'min',\n",
       " 'nbytes',\n",
       " 'ndim',\n",
       " 'newbyteorder',\n",
       " 'nonzero',\n",
       " 'partition',\n",
       " 'prod',\n",
       " 'ptp',\n",
       " 'put',\n",
       " 'ravel',\n",
       " 'real',\n",
       " 'repeat',\n",
       " 'reshape',\n",
       " 'resize',\n",
       " 'round',\n",
       " 'searchsorted',\n",
       " 'setfield',\n",
       " 'setflags',\n",
       " 'shape',\n",
       " 'size',\n",
       " 'sort',\n",
       " 'squeeze',\n",
       " 'std',\n",
       " 'strides',\n",
       " 'sum',\n",
       " 'swapaxes',\n",
       " 'take',\n",
       " 'tobytes',\n",
       " 'tofile',\n",
       " 'tolist',\n",
       " 'tostring',\n",
       " 'trace',\n",
       " 'transpose',\n",
       " 'var',\n",
       " 'view']"
      ]
     },
     "execution_count": 3,
     "metadata": {},
     "output_type": "execute_result"
    }
   ],
   "source": [
    "fonts = data['fonts']\n",
    "dir(fonts[0])"
   ]
  },
  {
   "cell_type": "code",
   "execution_count": 4,
   "metadata": {},
   "outputs": [
    {
     "data": {
      "text/plain": [
       "56443"
      ]
     },
     "execution_count": 4,
     "metadata": {},
     "output_type": "execute_result"
    }
   ],
   "source": [
    "len(fonts)"
   ]
  },
  {
   "cell_type": "code",
   "execution_count": 5,
   "metadata": {},
   "outputs": [
    {
     "data": {
      "text/plain": [
       "(56443, 62, 64, 64)"
      ]
     },
     "execution_count": 5,
     "metadata": {},
     "output_type": "execute_result"
    }
   ],
   "source": [
    "fonts.shape"
   ]
  },
  {
   "cell_type": "code",
   "execution_count": 6,
   "metadata": {},
   "outputs": [
    {
     "data": {
      "text/plain": [
       "(62, 64, 64)"
      ]
     },
     "execution_count": 6,
     "metadata": {},
     "output_type": "execute_result"
    }
   ],
   "source": [
    "fonts[0].shape"
   ]
  },
  {
   "cell_type": "code",
   "execution_count": 7,
   "metadata": {},
   "outputs": [
    {
     "data": {
      "text/plain": [
       "(0, 255)"
      ]
     },
     "execution_count": 7,
     "metadata": {},
     "output_type": "execute_result"
    }
   ],
   "source": [
    "fonts[0][0].min(), fonts[0][0].max()"
   ]
  },
  {
   "cell_type": "code",
   "execution_count": 8,
   "metadata": {},
   "outputs": [],
   "source": [
    "def display(array):\n",
    "    array = array.reshape(64,64)\n",
    "    fig,ax  = plt.subplots(1)\n",
    "    ax.imshow(array)\n",
    "\n",
    "    #print(array.shape)"
   ]
  },
  {
   "cell_type": "code",
   "execution_count": 9,
   "metadata": {},
   "outputs": [],
   "source": [
    "all_chars = \"ABCDEFGHIJKLMNOPQRSTUVWXYZabcdefghijklmnopqrstuvwxyz0123456789\"\n",
    "\n",
    "chars = { i: char for i, char in enumerate(all_chars) }"
   ]
  },
  {
   "cell_type": "code",
   "execution_count": 10,
   "metadata": {},
   "outputs": [
    {
     "data": {
      "image/png": "[encoded data removed]",
      "text/plain": [
       "<matplotlib.figure.Figure at 0x7f2b0cc320b8>"
      ]
     },
     "metadata": {},
     "output_type": "display_data"
    },
    {
     "data": {
      "image/png": "[encoded data removed]",
      "text/plain": [
       "<matplotlib.figure.Figure at 0x7f2b0ab9d8d0>"
      ]
     },
     "metadata": {},
     "output_type": "display_data"
    },
    {
     "data": {
      "image/png": "[encoded data removed]",
      "text/plain": [
       "<matplotlib.figure.Figure at 0x7f2b0ab72208>"
      ]
     },
     "metadata": {},
     "output_type": "display_data"
    },
    {
     "data": {
      "image/png": "[encoded data removed]",
      "text/plain": [
       "<matplotlib.figure.Figure at 0x7f2b0aac4710>"
      ]
     },
     "metadata": {},
     "output_type": "display_data"
    },
    {
     "data": {
      "image/png": "[encoded data removed]",
      "text/plain": [
       "<matplotlib.figure.Figure at 0x7f2b0aa8eba8>"
      ]
     },
     "metadata": {},
     "output_type": "display_data"
    },
    {
     "data": {
      "image/png": "[encoded data removed]",
      "text/plain": [
       "<matplotlib.figure.Figure at 0x7f2b0aa5efd0>"
      ]
     },
     "metadata": {},
     "output_type": "display_data"
    }
   ],
   "source": [
    "# font[font_type_index][character_index]\n",
    "# Characters: \"ABCDEFGHIJKLMNOPQRSTUVWXYZabcdefghijklmnopqrstuvwxyz0123456789\"\n",
    "display(fonts[0][0])\n",
    "display(fonts[1][25])\n",
    "display(fonts[2][26])\n",
    "display(fonts[3][51])\n",
    "display(fonts[4][52])\n",
    "display(fonts[5][61])"
   ]
  },
  {
   "cell_type": "code",
   "execution_count": 11,
   "metadata": {},
   "outputs": [
    {
     "name": "stdout",
     "output_type": "stream",
     "text": [
      "CPU times: user 6.82 s, sys: 15.5 s, total: 22.3 s\n",
      "Wall time: 31.8 s\n"
     ]
    }
   ],
   "source": [
    "%%time\n",
    "\n",
    "image_list = np.array(fonts).reshape(56443*62, 64, 64, 1)\n",
    "#image_list = np.array(fonts).reshape(56443*62, 64, 64)\n",
    "final_shape = image_list.shape\n",
    "final_shape"
   ]
  },
  {
   "cell_type": "code",
   "execution_count": 12,
   "metadata": {},
   "outputs": [
    {
     "data": {
      "text/plain": [
       "dtype('uint8')"
      ]
     },
     "execution_count": 12,
     "metadata": {},
     "output_type": "execute_result"
    }
   ],
   "source": [
    "image_list.dtype"
   ]
  },
  {
   "cell_type": "code",
   "execution_count": 13,
   "metadata": {},
   "outputs": [
    {
     "data": {
      "text/plain": [
       "\"%%time\\n\\nincrement = 100000\\n\\nfor i in range(0, len(image_list), increment):\\n    normalized_images = image_list[i:i+increment] / 255\\n        \\n    print(i, normalized_images.shape)\\n    #all_normalized_images = np.array([all_normalized_images, normalized_images])\\n    np.savez('npz/fonts_{}.npz'.format(i), normalized_images)#\\n\\n    #all_normalized_images.append(normalized_images)\\n    #if i > 3 * increment:\\n    #    break\\n       \\n    \\n#X = all_normalized_images\\n\\n#print(X.shape)\\n#print(X.dtype)\\n\""
      ]
     },
     "execution_count": 13,
     "metadata": {},
     "output_type": "execute_result"
    }
   ],
   "source": [
    "\"\"\"%%time\n",
    "\n",
    "increment = 100000\n",
    "\n",
    "for i in range(0, len(image_list), increment):\n",
    "    normalized_images = image_list[i:i+increment] / 255\n",
    "        \n",
    "    print(i, normalized_images.shape)\n",
    "    #all_normalized_images = np.array([all_normalized_images, normalized_images])\n",
    "    np.savez('npz/fonts_{}.npz'.format(i), normalized_images)#\n",
    "\n",
    "    #all_normalized_images.append(normalized_images)\n",
    "    #if i > 3 * increment:\n",
    "    #    break\n",
    "       \n",
    "    \n",
    "#X = all_normalized_images\n",
    "\n",
    "#print(X.shape)\n",
    "#print(X.dtype)\n",
    "\"\"\""
   ]
  },
  {
   "cell_type": "code",
   "execution_count": null,
   "metadata": {},
   "outputs": [],
   "source": []
  },
  {
   "cell_type": "code",
   "execution_count": null,
   "metadata": {},
   "outputs": [],
   "source": []
  },
  {
   "cell_type": "code",
   "execution_count": null,
   "metadata": {},
   "outputs": [],
   "source": []
  },
  {
   "cell_type": "code",
   "execution_count": 14,
   "metadata": {},
   "outputs": [],
   "source": [
    "#X = image_list\n",
    "X = image_list\n",
    "y = np.array([i for _ in range(56443) for i in range(62)])\n",
    "\n",
    "#display(fonts[101][0])\n",
    "#display(image_list[6262])"
   ]
  },
  {
   "cell_type": "code",
   "execution_count": 15,
   "metadata": {},
   "outputs": [
    {
     "name": "stderr",
     "output_type": "stream",
     "text": [
      "Using TensorFlow backend.\n"
     ]
    },
    {
     "data": {
      "text/plain": [
       "(3499466, 62)"
      ]
     },
     "execution_count": 15,
     "metadata": {},
     "output_type": "execute_result"
    }
   ],
   "source": [
    "from keras.utils import to_categorical\n",
    "\n",
    "y = to_categorical(y)\n",
    "y.shape"
   ]
  },
  {
   "cell_type": "code",
   "execution_count": 16,
   "metadata": {},
   "outputs": [
    {
     "name": "stdout",
     "output_type": "stream",
     "text": [
      "(3499466, 64, 64, 1)\n",
      "(3499466, 62)\n"
     ]
    }
   ],
   "source": [
    "print(X.shape)\n",
    "print(y.shape)"
   ]
  },
  {
   "cell_type": "code",
   "execution_count": 17,
   "metadata": {},
   "outputs": [
    {
     "name": "stdout",
     "output_type": "stream",
     "text": [
      "FONT: 46668\n",
      "CHAR: 54\n",
      "(64, 64, 1)\n"
     ]
    },
    {
     "data": {
      "image/png": "[encoded data removed]",
      "text/plain": [
       "<matplotlib.figure.Figure at 0x7f2b05c2a518>"
      ]
     },
     "metadata": {},
     "output_type": "display_data"
    },
    {
     "data": {
      "image/png": "[encoded data removed]",
      "text/plain": [
       "<matplotlib.figure.Figure at 0x7f2b05c2a4e0>"
      ]
     },
     "metadata": {},
     "output_type": "display_data"
    }
   ],
   "source": [
    "from random import randint\n",
    "\n",
    "rand_font = randint(0, 56443)\n",
    "rand_char = randint(0, 62)\n",
    "\n",
    "print(\"FONT: {}\".format(rand_font))\n",
    "print(\"CHAR: {}\".format(rand_char))\n",
    "\n",
    "print(image_list[rand_font*62 + rand_char].shape)\n",
    "\n",
    "display(fonts[rand_font][rand_char])\n",
    "display(image_list[rand_font*62 + rand_char])\n"
   ]
  },
  {
   "cell_type": "code",
   "execution_count": 18,
   "metadata": {},
   "outputs": [
    {
     "name": "stdout",
     "output_type": "stream",
     "text": [
      "(100000, 64, 64, 1)\n",
      "(100000, 62)\n"
     ]
    }
   ],
   "source": [
    "subset_num = 100000\n",
    "\n",
    "X_subset = X[:subset_num]\n",
    "y_subset = y[:subset_num]\n",
    "\n",
    "print(X_subset.shape)\n",
    "print(y_subset.shape)"
   ]
  },
  {
   "cell_type": "code",
   "execution_count": 19,
   "metadata": {},
   "outputs": [
    {
     "name": "stdout",
     "output_type": "stream",
     "text": [
      "CPU times: user 2.67 s, sys: 1.25 s, total: 3.92 s\n",
      "Wall time: 3.77 s\n"
     ]
    }
   ],
   "source": [
    "%%time\n",
    "\n",
    "X_subset = X_subset / 255"
   ]
  },
  {
   "cell_type": "code",
   "execution_count": 20,
   "metadata": {},
   "outputs": [
    {
     "name": "stdout",
     "output_type": "stream",
     "text": [
      "CHAR: H\n"
     ]
    },
    {
     "data": {
      "image/png": "[encoded data removed]",
      "text/plain": [
       "<matplotlib.figure.Figure at 0x7f2b0cc2c3c8>"
      ]
     },
     "metadata": {},
     "output_type": "display_data"
    }
   ],
   "source": [
    "test_digit = randint(0, subset_num)\n",
    "char_index = np.argmax(y[test_digit])\n",
    "\n",
    "display(X_subset[test_digit])\n",
    "print(\"CHAR: {}\".format(chars[char_index]))\n"
   ]
  },
  {
   "cell_type": "code",
   "execution_count": 21,
   "metadata": {},
   "outputs": [
    {
     "data": {
      "text/plain": [
       "(75000, 64, 64, 1)"
      ]
     },
     "execution_count": 21,
     "metadata": {},
     "output_type": "execute_result"
    }
   ],
   "source": [
    "from sklearn.model_selection import train_test_split\n",
    "\n",
    "X_subset_train, X_subset_test, y_subset_train, y_subset_test = train_test_split(X_subset, \n",
    "                                                                                y_subset, \n",
    "                                                                                test_size = .25, \n",
    "                                                                                random_state = 42\n",
    "                                                                               )\n",
    "X_subset_train.shape"
   ]
  },
  {
   "cell_type": "code",
   "execution_count": 22,
   "metadata": {},
   "outputs": [
    {
     "data": {
      "text/plain": [
       "'X_train, X_test, y_train, y_test = train_test_split(X, \\n                                                    y, \\n                                                    test_size = .25, \\n                                                    random_state = 42\\n                                                   )\\nX_train.shape'"
      ]
     },
     "execution_count": 22,
     "metadata": {},
     "output_type": "execute_result"
    }
   ],
   "source": [
    "\"\"\"X_train, X_test, y_train, y_test = train_test_split(X, \n",
    "                                                    y, \n",
    "                                                    test_size = .25, \n",
    "                                                    random_state = 42\n",
    "                                                   )\n",
    "X_train.shape\"\"\""
   ]
  },
  {
   "cell_type": "code",
   "execution_count": 23,
   "metadata": {},
   "outputs": [],
   "source": [
    "from keras.layers import Conv2D, MaxPooling2D, GlobalAveragePooling2D\n",
    "from keras.layers import Dropout, Flatten, Dense, Activation, Reshape, Input\n",
    "from keras.layers.normalization import BatchNormalization\n",
    "from keras.models import Sequential, load_model\n",
    "from keras.callbacks import ModelCheckpoint\n",
    "\n",
    "from keras import backend as K"
   ]
  },
  {
   "cell_type": "code",
   "execution_count": 24,
   "metadata": {},
   "outputs": [],
   "source": [
    "def create_model(in_shape):\n",
    "    model = Sequential()\n",
    "\n",
    "    model.add(Conv2D(filters=256, kernel_size=2, padding='same', activation='relu', input_shape=in_shape))\n",
    "    model.add(MaxPooling2D(pool_size=2))\n",
    "    model.add(BatchNormalization())\n",
    "    \n",
    "    model.add(Conv2D(filters=512, kernel_size=2, padding='same', activation='relu'))\n",
    "    model.add(MaxPooling2D(pool_size=2))\n",
    "    model.add(BatchNormalization())\n",
    "    \n",
    "    model.add(Conv2D(filters=1024, kernel_size=2, padding='same', activation='relu'))\n",
    "    model.add(MaxPooling2D(pool_size=2))\n",
    "    model.add(BatchNormalization())\n",
    "    \n",
    "    #model.add(Conv2D(filters=1024, kernel_size=2, padding='same', activation='relu'))\n",
    "    #model.add(MaxPooling2D(pool_size=2))\n",
    "    #model.add(BatchNormalization())\n",
    "\n",
    "    model.add(GlobalAveragePooling2D())\n",
    "    model.add(Dense(512, activation='relu'))\n",
    "    model.add(Dense(62, activation='softmax'))\n",
    "    model.summary()\n",
    "    return model"
   ]
  },
  {
   "cell_type": "code",
   "execution_count": 25,
   "metadata": {},
   "outputs": [
    {
     "name": "stdout",
     "output_type": "stream",
     "text": [
      "_________________________________________________________________\n",
      "Layer (type)                 Output Shape              Param #   \n",
      "=================================================================\n",
      "conv2d_1 (Conv2D)            (None, 64, 64, 256)       1280      \n",
      "_________________________________________________________________\n",
      "max_pooling2d_1 (MaxPooling2 (None, 32, 32, 256)       0         \n",
      "_________________________________________________________________\n",
      "batch_normalization_1 (Batch (None, 32, 32, 256)       1024      \n",
      "_________________________________________________________________\n",
      "conv2d_2 (Conv2D)            (None, 32, 32, 512)       524800    \n",
      "_________________________________________________________________\n",
      "max_pooling2d_2 (MaxPooling2 (None, 16, 16, 512)       0         \n",
      "_________________________________________________________________\n",
      "batch_normalization_2 (Batch (None, 16, 16, 512)       2048      \n",
      "_________________________________________________________________\n",
      "conv2d_3 (Conv2D)            (None, 16, 16, 1024)      2098176   \n",
      "_________________________________________________________________\n",
      "max_pooling2d_3 (MaxPooling2 (None, 8, 8, 1024)        0         \n",
      "_________________________________________________________________\n",
      "batch_normalization_3 (Batch (None, 8, 8, 1024)        4096      \n",
      "_________________________________________________________________\n",
      "global_average_pooling2d_1 ( (None, 1024)              0         \n",
      "_________________________________________________________________\n",
      "dense_1 (Dense)              (None, 512)               524800    \n",
      "_________________________________________________________________\n",
      "dense_2 (Dense)              (None, 62)                31806     \n",
      "=================================================================\n",
      "Total params: 3,188,030.0\n",
      "Trainable params: 3,184,446.0\n",
      "Non-trainable params: 3,584.0\n",
      "_________________________________________________________________\n"
     ]
    }
   ],
   "source": [
    "model = create_model((64,64,1))"
   ]
  },
  {
   "cell_type": "code",
   "execution_count": 26,
   "metadata": {},
   "outputs": [],
   "source": [
    "model.compile(optimizer='rmsprop', loss='categorical_crossentropy', metrics=['accuracy'])"
   ]
  },
  {
   "cell_type": "code",
   "execution_count": 27,
   "metadata": {},
   "outputs": [],
   "source": [
    "#print(X_train.shape)\n",
    "#print(y_train.shape)"
   ]
  },
  {
   "cell_type": "code",
   "execution_count": 28,
   "metadata": {},
   "outputs": [
    {
     "name": "stdout",
     "output_type": "stream",
     "text": [
      "Train on 56250 samples, validate on 18750 samples\n",
      "Epoch 1/5\n",
      "56064/56250 [============================>.] - ETA: 38s - loss: 3.1844 - acc: 0.2157Epoch 00000: acc improved from -inf to 0.21602, saving model to font_model.h5\n",
      "56250/56250 [==============================] - 12993s - loss: 3.1829 - acc: 0.2160 - val_loss: 6.0246 - val_acc: 0.0154\n",
      "Epoch 2/5\n",
      "56064/56250 [============================>.] - ETA: 38s - loss: 2.1840 - acc: 0.4301Epoch 00001: acc improved from 0.21602 to 0.43028, saving model to font_model.h5\n",
      "56250/56250 [==============================] - 12995s - loss: 2.1826 - acc: 0.4303 - val_loss: 4.9014 - val_acc: 0.0139\n",
      "Epoch 3/5\n",
      "56064/56250 [============================>.] - ETA: 38s - loss: 1.8157 - acc: 0.5073Epoch 00002: acc improved from 0.43028 to 0.50720, saving model to font_model.h5\n",
      "56250/56250 [==============================] - 13008s - loss: 1.8160 - acc: 0.5072 - val_loss: 3.6016 - val_acc: 0.1377\n",
      "Epoch 4/5\n",
      "56064/56250 [============================>.] - ETA: 38s - loss: 1.5994 - acc: 0.5500Epoch 00003: acc improved from 0.50720 to 0.54969, saving model to font_model.h5\n",
      "56250/56250 [==============================] - 12994s - loss: 1.5998 - acc: 0.5497 - val_loss: 2.6660 - val_acc: 0.3061\n",
      "Epoch 5/5\n",
      "56064/56250 [============================>.] - ETA: 38s - loss: 1.4372 - acc: 0.5847Epoch 00004: acc improved from 0.54969 to 0.58468, saving model to font_model.h5\n",
      "56250/56250 [==============================] - 12977s - loss: 1.4377 - acc: 0.5847 - val_loss: 2.9182 - val_acc: 0.3210\n"
     ]
    }
   ],
   "source": [
    "batch_size = 256\n",
    "epochs = 5\n",
    "\n",
    "checkpointer = ModelCheckpoint(filepath='font_model.h5', \n",
    "                               verbose=1, \n",
    "                               save_best_only=True, \n",
    "                               monitor='acc',\n",
    "                              )\n",
    "\n",
    "history = model.fit(X_subset_train, \n",
    "          y_subset_train, \n",
    "          epochs=epochs, \n",
    "          batch_size=batch_size, \n",
    "          callbacks=[checkpointer],\n",
    "          validation_split=0.25,\n",
    "          verbose=1\n",
    "         )"
   ]
  },
  {
   "cell_type": "code",
   "execution_count": 29,
   "metadata": {},
   "outputs": [
    {
     "name": "stdout",
     "output_type": "stream",
     "text": [
      "dict_keys(['val_loss', 'val_acc', 'loss', 'acc'])\n"
     ]
    },
    {
     "data": {
      "image/png": "[encoded data removed]",
      "text/plain": [
       "<matplotlib.figure.Figure at 0x7f290c38a470>"
      ]
     },
     "metadata": {},
     "output_type": "display_data"
    }
   ],
   "source": [
    "print(history.history.keys())\n",
    "\n",
    "plt.plot(history.history['acc'])\n",
    "plt.plot(history.history['val_acc'])\n",
    "plt.title('model_accuracy')\n",
    "plt.ylabel('accuracy')\n",
    "plt.xlabel('epoch')\n",
    "plt.legend(['acc','val_acc'], loc='upper left')\n",
    "plt.show()"
   ]
  },
  {
   "cell_type": "code",
   "execution_count": 30,
   "metadata": {},
   "outputs": [],
   "source": [
    "# 3 layers, batch 256, epochs 5, validation split .25, 404 seconds, 2 - 14.76 accuracy\n",
    "# 3 layers, batch 512, epochs 5, validation split .1, 450 seconds, 2 - 10.52 accuracy"
   ]
  },
  {
   "cell_type": "code",
   "execution_count": 64,
   "metadata": {},
   "outputs": [],
   "source": [
    "model.save(\"font_model_first100000samples_5epochs.h5\")"
   ]
  },
  {
   "cell_type": "code",
   "execution_count": 63,
   "metadata": {},
   "outputs": [
    {
     "name": "stdout",
     "output_type": "stream",
     "text": [
      "u\n"
     ]
    },
    {
     "data": {
      "image/png": "[encoded data removed]",
      "text/plain": [
       "<matplotlib.figure.Figure at 0x7f290c10a240>"
      ]
     },
     "metadata": {},
     "output_type": "display_data"
    }
   ],
   "source": [
    "test_num = 1001\n",
    "\n",
    "test = X_subset_test[test_num]\n",
    "test = np.reshape(test, (1,64,64,1))\n",
    "\n",
    "print(all_chars[np.argmax(y_subset_test[test_num])])\n",
    "display(X_subset_test[test_num])"
   ]
  },
  {
   "cell_type": "code",
   "execution_count": 79,
   "metadata": {},
   "outputs": [],
   "source": [
    "predictions = model.predict(X_subset_test)"
   ]
  },
  {
   "cell_type": "code",
   "execution_count": 67,
   "metadata": {},
   "outputs": [],
   "source": [
    "from sklearn.metrics import classification_report, accuracy_score"
   ]
  },
  {
   "cell_type": "code",
   "execution_count": 88,
   "metadata": {},
   "outputs": [
    {
     "name": "stdout",
     "output_type": "stream",
     "text": [
      "19\n",
      "19\n"
     ]
    }
   ],
   "source": [
    "print(np.argmax(predictions[0]))\n",
    "print(np.argmax(y_subset_test[0]))\n"
   ]
  },
  {
   "cell_type": "code",
   "execution_count": 97,
   "metadata": {},
   "outputs": [
    {
     "name": "stdout",
     "output_type": "stream",
     "text": [
      "Accuracy: 0.32096\n"
     ]
    }
   ],
   "source": [
    "correct = 0\n",
    "\n",
    "for i in range(len(predictions)):\n",
    "    #print(np.argmax(predictions[i]), np.argmax(y_subset_test[i]))\n",
    "    if np.argmax(predictions[i]) == np.argmax(y_subset_test[i]):\n",
    "        correct += 1\n",
    "\n",
    "accuracy = correct / len(predictions)\n",
    "print(\"Accuracy: {}\".format(accuracy))"
   ]
  },
  {
   "cell_type": "code",
   "execution_count": 99,
   "metadata": {},
   "outputs": [
    {
     "name": "stdout",
     "output_type": "stream",
     "text": [
      "(75000, 64, 64, 1)\n",
      "CPU times: user 3.3 s, sys: 2.62 s, total: 5.92 s\n",
      "Wall time: 5.92 s\n"
     ]
    }
   ],
   "source": [
    "%%time\n",
    "\n",
    "# Round 2\n",
    "X_subset2 = X[100000:200000]\n",
    "y_subset2 = y[100000:200000]\n",
    "\n",
    "X_subset2 = X_subset2 / 255\n",
    "\n",
    "X_subset_train2, X_subset_test2, y_subset_train2, y_subset_test2 = train_test_split(X_subset2, \n",
    "                                                                                y_subset2, \n",
    "                                                                                test_size = .25, \n",
    "                                                                                random_state = 42\n",
    "                                                                               )\n",
    "print(X_subset_train2.shape)"
   ]
  },
  {
   "cell_type": "code",
   "execution_count": null,
   "metadata": {},
   "outputs": [
    {
     "name": "stdout",
     "output_type": "stream",
     "text": [
      "Train on 56250 samples, validate on 18750 samples\n",
      "Epoch 1/8\n",
      "56064/56250 [============================>.] - ETA: 38s - loss: 1.5474 - acc: 0.5755Epoch 00000: acc improved from -inf to 0.57547, saving model to font_model.h5\n",
      "56250/56250 [==============================] - 12950s - loss: 1.5476 - acc: 0.5755 - val_loss: 2.1517 - val_acc: 0.4213\n",
      "Epoch 2/8\n",
      "56064/56250 [============================>.] - ETA: 38s - loss: 1.2977 - acc: 0.6285Epoch 00001: acc improved from 0.57547 to 0.62859, saving model to font_model.h5\n",
      "56250/56250 [==============================] - 12956s - loss: 1.2975 - acc: 0.6286 - val_loss: 1.9125 - val_acc: 0.4649\n",
      "Epoch 3/8\n",
      "56064/56250 [============================>.] - ETA: 38s - loss: 1.1276 - acc: 0.6660Epoch 00002: acc improved from 0.62859 to 0.66599, saving model to font_model.h5\n",
      "56250/56250 [==============================] - 12977s - loss: 1.1279 - acc: 0.6660 - val_loss: 4.9802 - val_acc: 0.1790\n",
      "Epoch 4/8\n",
      "56064/56250 [============================>.] - ETA: 38s - loss: 0.9864 - acc: 0.6997Epoch 00003: acc improved from 0.66599 to 0.69973, saving model to font_model.h5\n",
      "56250/56250 [==============================] - 12980s - loss: 0.9863 - acc: 0.6997 - val_loss: 1.5915 - val_acc: 0.5370\n",
      "Epoch 5/8\n",
      "56064/56250 [============================>.] - ETA: 38s - loss: 0.8626 - acc: 0.7264Epoch 00004: acc improved from 0.69973 to 0.72620, saving model to font_model.h5\n",
      "56250/56250 [==============================] - 12978s - loss: 0.8628 - acc: 0.7262 - val_loss: 1.6000 - val_acc: 0.5594\n",
      "Epoch 6/8\n",
      "56064/56250 [============================>.] - ETA: 38s - loss: 0.7567 - acc: 0.7532Epoch 00005: acc improved from 0.72620 to 0.75330, saving model to font_model.h5\n",
      "56250/56250 [==============================] - 12969s - loss: 0.7564 - acc: 0.7533 - val_loss: 1.8624 - val_acc: 0.4856\n",
      "Epoch 7/8\n",
      "56064/56250 [============================>.] - ETA: 38s - loss: 0.6672 - acc: 0.7768Epoch 00006: acc improved from 0.75330 to 0.77678, saving model to font_model.h5\n",
      "56250/56250 [==============================] - 12958s - loss: 0.6673 - acc: 0.7768 - val_loss: 1.9224 - val_acc: 0.4980\n",
      "Epoch 8/8\n",
      "56064/56250 [============================>.] - ETA: 38s - loss: 0.5922 - acc: 0.7974Epoch 00007: acc improved from 0.77678 to 0.79742, saving model to font_model.h5\n",
      "56250/56250 [==============================] - 12954s - loss: 0.5924 - acc: 0.7974 - val_loss: 1.6858 - val_acc: 0.5404\n"
     ]
    }
   ],
   "source": [
    "batch_size = 256\n",
    "epochs = 8\n",
    "\n",
    "checkpointer = ModelCheckpoint(filepath='font_model.h5', \n",
    "                               verbose=1, \n",
    "                               save_best_only=True, \n",
    "                               monitor='acc',\n",
    "                              )\n",
    "\n",
    "history = model.fit(X_subset_train2, \n",
    "          y_subset_train2, \n",
    "          epochs=epochs, \n",
    "          batch_size=batch_size, \n",
    "          callbacks=[checkpointer],\n",
    "          validation_split=0.25,\n",
    "          verbose=1\n",
    "         )"
   ]
  },
  {
   "cell_type": "code",
   "execution_count": null,
   "metadata": {},
   "outputs": [],
   "source": [
    "model.save(\"font_model_second100000samples_8epochs.h5\")"
   ]
  },
  {
   "cell_type": "code",
   "execution_count": null,
   "metadata": {},
   "outputs": [
    {
     "name": "stdout",
     "output_type": "stream",
     "text": [
      "dict_keys(['val_loss', 'val_acc', 'loss', 'acc'])\n"
     ]
    },
    {
     "data": {
      "image/png": "[encoded data removed]",
      "text/plain": [
       "<matplotlib.figure.Figure at 0x7f290c2a0668>"
      ]
     },
     "metadata": {},
     "output_type": "display_data"
    }
   ],
   "source": [
    "print(history.history.keys())\n",
    "\n",
    "plt.plot(history.history['acc'])\n",
    "plt.plot(history.history['val_acc'])\n",
    "plt.title('model_accuracy')\n",
    "plt.ylabel('accuracy')\n",
    "plt.xlabel('epoch')\n",
    "plt.legend(['acc','val_acc'], loc='upper left')\n",
    "plt.show()"
   ]
  },
  {
   "cell_type": "code",
   "execution_count": null,
   "metadata": {},
   "outputs": [
    {
     "name": "stdout",
     "output_type": "stream",
     "text": [
      "Accuracy: 0.53556\n"
     ]
    }
   ],
   "source": [
    "predictions2 = model.predict(X_subset_test2)\n",
    "\n",
    "correct = 0\n",
    "\n",
    "for i in range(len(predictions)):\n",
    "    #print(np.argmax(predictions[i]), np.argmax(y_subset_test[i]))\n",
    "    if np.argmax(predictions2[i]) == np.argmax(y_subset_test2[i]):\n",
    "        correct += 1\n",
    "\n",
    "accuracy = correct / len(predictions2)\n",
    "print(\"Accuracy: {}\".format(accuracy))"
   ]
  },
  {
   "cell_type": "code",
   "execution_count": null,
   "metadata": {},
   "outputs": [],
   "source": []
  }
 ],
 "metadata": {
  "kernelspec": {
   "display_name": "Python 3",
   "language": "python",
   "name": "python3"
  },
  "language_info": {
   "codemirror_mode": {
    "name": "ipython",
    "version": 3
   },
   "file_extension": ".py",
   "mimetype": "text/x-python",
   "name": "python",
   "nbconvert_exporter": "python",
   "pygments_lexer": "ipython3",
   "version": "3.5.2"
  }
 },
 "nbformat": 4,
 "nbformat_minor": 2
}
